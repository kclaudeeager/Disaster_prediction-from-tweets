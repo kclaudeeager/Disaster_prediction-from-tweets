{
 "cells": [
  {
   "cell_type": "code",
   "execution_count": 23,
   "id": "initial_id",
   "metadata": {
    "collapsed": true,
    "ExecuteTime": {
     "end_time": "2023-11-01T08:02:59.240848Z",
     "start_time": "2023-11-01T08:02:59.175796Z"
    }
   },
   "outputs": [],
   "source": [
    "import re\n",
    "from string import punctuation\n",
    "\n",
    "import pandas as pd\n",
    "import time\n",
    "import numpy as np\n",
    "from sklearn.metrics.pairwise import cosine_similarity\n",
    "from sklearn.feature_extraction.text import TfidfVectorizer\n",
    "from sklearn.metrics.pairwise import linear_kernel\n",
    "import nltk\n",
    "from nltk.corpus import stopwords\n",
    "from nltk.stem import WordNetLemmatizer\n",
    "from sklearn.metrics import roc_curve\n",
    "from sklearn.metrics import roc_auc_score\n",
    "from sklearn.metrics import confusion_matrix\n",
    "import seaborn as sns\n",
    "import matplotlib.pyplot as plt\n",
    "from sklearn.linear_model import PassiveAggressiveClassifier"
   ]
  },
  {
   "cell_type": "code",
   "execution_count": 15,
   "outputs": [
    {
     "name": "stdout",
     "output_type": "stream",
     "text": [
      "Requirement already satisfied: pip in /Users/claudekwizera/anaconda3/lib/python3.10/site-packages (23.3.1)\r\n",
      "Collecting tokenizers==0.12.1 (from -r requirements.txt (line 1))\r\n",
      "  Downloading tokenizers-0.12.1-cp310-cp310-macosx_10_11_x86_64.whl (3.6 MB)\r\n",
      "\u001B[2K     \u001B[90m━━━━━━━━━━━━━━━━━━━━━━━━━━━━━━━━━━━━━━━━\u001B[0m \u001B[32m3.6/3.6 MB\u001B[0m \u001B[31m591.5 kB/s\u001B[0m eta \u001B[36m0:00:00\u001B[0m00:01\u001B[0m00:01\u001B[0m\r\n",
      "\u001B[?25hRequirement already satisfied: nltk in /Users/claudekwizera/anaconda3/lib/python3.10/site-packages (from -r requirements.txt (line 2)) (3.7)\r\n",
      "Requirement already satisfied: numpy in /Users/claudekwizera/anaconda3/lib/python3.10/site-packages (from -r requirements.txt (line 3)) (1.23.5)\r\n",
      "Requirement already satisfied: click in /Users/claudekwizera/anaconda3/lib/python3.10/site-packages (from nltk->-r requirements.txt (line 2)) (8.0.4)\r\n",
      "Requirement already satisfied: joblib in /Users/claudekwizera/anaconda3/lib/python3.10/site-packages (from nltk->-r requirements.txt (line 2)) (1.1.1)\r\n",
      "Requirement already satisfied: regex>=2021.8.3 in /Users/claudekwizera/anaconda3/lib/python3.10/site-packages (from nltk->-r requirements.txt (line 2)) (2022.7.9)\r\n",
      "Requirement already satisfied: tqdm in /Users/claudekwizera/anaconda3/lib/python3.10/site-packages (from nltk->-r requirements.txt (line 2)) (4.64.1)\r\n",
      "Installing collected packages: tokenizers\r\n",
      "  Attempting uninstall: tokenizers\r\n",
      "    Found existing installation: tokenizers 0.11.4\r\n",
      "    Uninstalling tokenizers-0.11.4:\r\n",
      "      Successfully uninstalled tokenizers-0.11.4\r\n",
      "Successfully installed tokenizers-0.12.1\r\n"
     ]
    }
   ],
   "source": [
    "#Install the requirements\n",
    "! pip install --upgrade pip\n",
    "!pip install -r requirements.txt"
   ],
   "metadata": {
    "collapsed": false,
    "ExecuteTime": {
     "end_time": "2023-11-01T07:23:58.574807Z",
     "start_time": "2023-11-01T07:23:39.072225Z"
    }
   },
   "id": "6442015ed01608f9"
  },
  {
   "cell_type": "code",
   "execution_count": 4,
   "outputs": [],
   "source": [
    "#Text cleaning function\n",
    "def text_cleaning(text, remove_stop_words=True, lemmatize_words=True):\n",
    "    # Clean the text, with the option to remove stop_words and to lemmatize word\n",
    "    # Clean the text\n",
    "    text = re.sub(r\"[^A-Za-z0-9]\", \" \", text)\n",
    "    text = re.sub(r\"\\'s\", \" \", text)\n",
    "    text = re.sub(r\"http\\S+\", \" link \", text)\n",
    "    text = re.sub(r\"\\b\\d+(?:\\.\\d+)?\\s+\", \"\", text)  # remove numbers\n",
    "    \n",
    "    # Remove punctuation from text\n",
    "    text = \"\".join([c for c in text if c not in punctuation])\n",
    "    \n",
    "    # Optionally, remove stop words\n",
    "    if remove_stop_words:\n",
    "        # load stopwords\n",
    "        stop_words = stopwords.words(\"english\")\n",
    "        text = text.split()\n",
    "        text = [w for w in text if not w in stop_words]\n",
    "        text = \" \".join(text)\n",
    "        \n",
    "    # Optionally, shorten words to their stems\n",
    "    if lemmatize_words:\n",
    "        text = text.split()\n",
    "        lemmatizer = WordNetLemmatizer()\n",
    "        lemmatized_words = [lemmatizer.lemmatize(word) for word in text]\n",
    "        text = \" \".join(lemmatized_words)\n",
    "        \n",
    "    # Return a list of words\n",
    "    return text"
   ],
   "metadata": {
    "collapsed": false,
    "ExecuteTime": {
     "end_time": "2023-11-01T07:35:17.234738Z",
     "start_time": "2023-11-01T07:35:17.225104Z"
    }
   },
   "id": "1399465cbb6bf810"
  },
  {
   "cell_type": "code",
   "execution_count": 5,
   "outputs": [],
   "source": [
    "def cosineSimillarity(corpus):\n",
    "    \n",
    "    start = time.time()\n",
    "    # Initialize an instance of tf-idf Vectorizer\n",
    "    tfidf_vectorizer = TfidfVectorizer(stop_words='english')\n",
    "\n",
    "    # Generate the tf-idf vectors for the corpus\n",
    "    tfidf_matrix = tfidf_vectorizer.fit_transform(corpus)\n",
    "\n",
    "    # compute and print the cosine similarity matrix\n",
    "    #cosine_sim = cosine_similarity(tfidf_matrix, tfidf_matrix)\n",
    "    cosine_sim = linear_kernel(tfidf_matrix, tfidf_matrix)\n",
    "    #print(cosine_sim)\n",
    "    # Print time taken\n",
    "    print(\"Time taken: %s seconds\" % (time.time() - start))\n",
    "    return cosine_sim"
   ],
   "metadata": {
    "collapsed": false,
    "ExecuteTime": {
     "end_time": "2023-11-01T07:35:20.546908Z",
     "start_time": "2023-11-01T07:35:20.535190Z"
    }
   },
   "id": "6b613f57a0f2f2fb"
  },
  {
   "cell_type": "code",
   "execution_count": 6,
   "outputs": [],
   "source": [
    "#Convert pandas series into dictionary\n",
    "def convertPdToDict(pandaSeries):\n",
    "    return pandaSeries.to_dict()"
   ],
   "metadata": {
    "collapsed": false,
    "ExecuteTime": {
     "end_time": "2023-11-01T07:35:22.539441Z",
     "start_time": "2023-11-01T07:35:22.524728Z"
    }
   },
   "id": "d4217bc84b506c0a"
  },
  {
   "cell_type": "code",
   "execution_count": 7,
   "outputs": [
    {
     "data": {
      "text/plain": "         id keyword location  \\\n0         1     NaN      NaN   \n1         4     NaN      NaN   \n2         5     NaN      NaN   \n3         6     NaN      NaN   \n4         7     NaN      NaN   \n...     ...     ...      ...   \n7608  10869     NaN      NaN   \n7609  10870     NaN      NaN   \n7610  10871     NaN      NaN   \n7611  10872     NaN      NaN   \n7612  10873     NaN      NaN   \n\n                                                   text  target  \n0     Our Deeds are the Reason of this #earthquake M...       1  \n1                Forest fire near La Ronge Sask. Canada       1  \n2     All residents asked to 'shelter in place' are ...       1  \n3     13,000 people receive #wildfires evacuation or...       1  \n4     Just got sent this photo from Ruby #Alaska as ...       1  \n...                                                 ...     ...  \n7608  Two giant cranes holding a bridge collapse int...       1  \n7609  @aria_ahrary @TheTawniest The out of control w...       1  \n7610  M1.94 [01:04 UTC]?5km S of Volcano Hawaii. htt...       1  \n7611  Police investigating after an e-bike collided ...       1  \n7612  The Latest: More Homes Razed by Northern Calif...       1  \n\n[7613 rows x 5 columns]",
      "text/html": "<div>\n<style scoped>\n    .dataframe tbody tr th:only-of-type {\n        vertical-align: middle;\n    }\n\n    .dataframe tbody tr th {\n        vertical-align: top;\n    }\n\n    .dataframe thead th {\n        text-align: right;\n    }\n</style>\n<table border=\"1\" class=\"dataframe\">\n  <thead>\n    <tr style=\"text-align: right;\">\n      <th></th>\n      <th>id</th>\n      <th>keyword</th>\n      <th>location</th>\n      <th>text</th>\n      <th>target</th>\n    </tr>\n  </thead>\n  <tbody>\n    <tr>\n      <th>0</th>\n      <td>1</td>\n      <td>NaN</td>\n      <td>NaN</td>\n      <td>Our Deeds are the Reason of this #earthquake M...</td>\n      <td>1</td>\n    </tr>\n    <tr>\n      <th>1</th>\n      <td>4</td>\n      <td>NaN</td>\n      <td>NaN</td>\n      <td>Forest fire near La Ronge Sask. Canada</td>\n      <td>1</td>\n    </tr>\n    <tr>\n      <th>2</th>\n      <td>5</td>\n      <td>NaN</td>\n      <td>NaN</td>\n      <td>All residents asked to 'shelter in place' are ...</td>\n      <td>1</td>\n    </tr>\n    <tr>\n      <th>3</th>\n      <td>6</td>\n      <td>NaN</td>\n      <td>NaN</td>\n      <td>13,000 people receive #wildfires evacuation or...</td>\n      <td>1</td>\n    </tr>\n    <tr>\n      <th>4</th>\n      <td>7</td>\n      <td>NaN</td>\n      <td>NaN</td>\n      <td>Just got sent this photo from Ruby #Alaska as ...</td>\n      <td>1</td>\n    </tr>\n    <tr>\n      <th>...</th>\n      <td>...</td>\n      <td>...</td>\n      <td>...</td>\n      <td>...</td>\n      <td>...</td>\n    </tr>\n    <tr>\n      <th>7608</th>\n      <td>10869</td>\n      <td>NaN</td>\n      <td>NaN</td>\n      <td>Two giant cranes holding a bridge collapse int...</td>\n      <td>1</td>\n    </tr>\n    <tr>\n      <th>7609</th>\n      <td>10870</td>\n      <td>NaN</td>\n      <td>NaN</td>\n      <td>@aria_ahrary @TheTawniest The out of control w...</td>\n      <td>1</td>\n    </tr>\n    <tr>\n      <th>7610</th>\n      <td>10871</td>\n      <td>NaN</td>\n      <td>NaN</td>\n      <td>M1.94 [01:04 UTC]?5km S of Volcano Hawaii. htt...</td>\n      <td>1</td>\n    </tr>\n    <tr>\n      <th>7611</th>\n      <td>10872</td>\n      <td>NaN</td>\n      <td>NaN</td>\n      <td>Police investigating after an e-bike collided ...</td>\n      <td>1</td>\n    </tr>\n    <tr>\n      <th>7612</th>\n      <td>10873</td>\n      <td>NaN</td>\n      <td>NaN</td>\n      <td>The Latest: More Homes Razed by Northern Calif...</td>\n      <td>1</td>\n    </tr>\n  </tbody>\n</table>\n<p>7613 rows × 5 columns</p>\n</div>"
     },
     "metadata": {},
     "output_type": "display_data"
    }
   ],
   "source": [
    "#Read the train dataset\n",
    "train_df = pd.read_csv(\"./data/train.csv\")\n",
    "display(train_df)"
   ],
   "metadata": {
    "collapsed": false,
    "ExecuteTime": {
     "end_time": "2023-11-01T07:35:25.364256Z",
     "start_time": "2023-11-01T07:35:25.263252Z"
    }
   },
   "id": "4d1b99924258c845"
  },
  {
   "cell_type": "code",
   "execution_count": 8,
   "outputs": [
    {
     "data": {
      "text/plain": "         id keyword location  \\\n0         1     NaN      NaN   \n1         4     NaN      NaN   \n2         5     NaN      NaN   \n3         6     NaN      NaN   \n4         7     NaN      NaN   \n...     ...     ...      ...   \n7608  10869     NaN      NaN   \n7609  10870     NaN      NaN   \n7610  10871     NaN      NaN   \n7611  10872     NaN      NaN   \n7612  10873     NaN      NaN   \n\n                                                   text  target  \n0       Our Deeds Reason earthquake May ALLAH Forgive u       1  \n1                 Forest fire near La Ronge Sask Canada       1  \n2     All resident asked shelter place notified offi...       1  \n3     people receive wildfire evacuation order Calif...       1  \n4     Just got sent photo Ruby Alaska smoke wildfire...       1  \n...                                                 ...     ...  \n7608  Two giant crane holding bridge collapse nearby...       1  \n7609  aria ahrary TheTawniest The control wild fire ...       1  \n7610     M1 UTC 5km S Volcano Hawaii http co zDtoyd8EbJ       1  \n7611  Police investigating e bike collided car Littl...       1  \n7612  The Latest More Homes Razed Northern Californi...       1  \n\n[7613 rows x 5 columns]",
      "text/html": "<div>\n<style scoped>\n    .dataframe tbody tr th:only-of-type {\n        vertical-align: middle;\n    }\n\n    .dataframe tbody tr th {\n        vertical-align: top;\n    }\n\n    .dataframe thead th {\n        text-align: right;\n    }\n</style>\n<table border=\"1\" class=\"dataframe\">\n  <thead>\n    <tr style=\"text-align: right;\">\n      <th></th>\n      <th>id</th>\n      <th>keyword</th>\n      <th>location</th>\n      <th>text</th>\n      <th>target</th>\n    </tr>\n  </thead>\n  <tbody>\n    <tr>\n      <th>0</th>\n      <td>1</td>\n      <td>NaN</td>\n      <td>NaN</td>\n      <td>Our Deeds Reason earthquake May ALLAH Forgive u</td>\n      <td>1</td>\n    </tr>\n    <tr>\n      <th>1</th>\n      <td>4</td>\n      <td>NaN</td>\n      <td>NaN</td>\n      <td>Forest fire near La Ronge Sask Canada</td>\n      <td>1</td>\n    </tr>\n    <tr>\n      <th>2</th>\n      <td>5</td>\n      <td>NaN</td>\n      <td>NaN</td>\n      <td>All resident asked shelter place notified offi...</td>\n      <td>1</td>\n    </tr>\n    <tr>\n      <th>3</th>\n      <td>6</td>\n      <td>NaN</td>\n      <td>NaN</td>\n      <td>people receive wildfire evacuation order Calif...</td>\n      <td>1</td>\n    </tr>\n    <tr>\n      <th>4</th>\n      <td>7</td>\n      <td>NaN</td>\n      <td>NaN</td>\n      <td>Just got sent photo Ruby Alaska smoke wildfire...</td>\n      <td>1</td>\n    </tr>\n    <tr>\n      <th>...</th>\n      <td>...</td>\n      <td>...</td>\n      <td>...</td>\n      <td>...</td>\n      <td>...</td>\n    </tr>\n    <tr>\n      <th>7608</th>\n      <td>10869</td>\n      <td>NaN</td>\n      <td>NaN</td>\n      <td>Two giant crane holding bridge collapse nearby...</td>\n      <td>1</td>\n    </tr>\n    <tr>\n      <th>7609</th>\n      <td>10870</td>\n      <td>NaN</td>\n      <td>NaN</td>\n      <td>aria ahrary TheTawniest The control wild fire ...</td>\n      <td>1</td>\n    </tr>\n    <tr>\n      <th>7610</th>\n      <td>10871</td>\n      <td>NaN</td>\n      <td>NaN</td>\n      <td>M1 UTC 5km S Volcano Hawaii http co zDtoyd8EbJ</td>\n      <td>1</td>\n    </tr>\n    <tr>\n      <th>7611</th>\n      <td>10872</td>\n      <td>NaN</td>\n      <td>NaN</td>\n      <td>Police investigating e bike collided car Littl...</td>\n      <td>1</td>\n    </tr>\n    <tr>\n      <th>7612</th>\n      <td>10873</td>\n      <td>NaN</td>\n      <td>NaN</td>\n      <td>The Latest More Homes Razed Northern Californi...</td>\n      <td>1</td>\n    </tr>\n  </tbody>\n</table>\n<p>7613 rows × 5 columns</p>\n</div>"
     },
     "metadata": {},
     "output_type": "display_data"
    }
   ],
   "source": [
    "# Clean the dataset \n",
    "train_copy_df = train_df.copy()\n",
    "\n",
    "train_copy_df[\"text\"] = train_copy_df[\"text\"].apply(lambda text:text_cleaning(text))\n",
    "display(train_copy_df)\n"
   ],
   "metadata": {
    "collapsed": false,
    "ExecuteTime": {
     "end_time": "2023-11-01T07:35:32.793292Z",
     "start_time": "2023-11-01T07:35:29.429985Z"
    }
   },
   "id": "994513d392cc1c01"
  },
  {
   "cell_type": "code",
   "execution_count": 16,
   "outputs": [
    {
     "name": "stdout",
     "output_type": "stream",
     "text": [
      "Time taken: 1.8822739124298096 seconds\n"
     ]
    },
    {
     "data": {
      "text/plain": "array([[1.        , 0.        , 0.        , ..., 0.        , 0.        ,\n        0.        ],\n       [0.        , 1.        , 0.        , ..., 0.        , 0.        ,\n        0.        ],\n       [0.        , 0.        , 1.        , ..., 0.        , 0.        ,\n        0.        ],\n       ...,\n       [0.        , 0.        , 0.        , ..., 1.        , 0.        ,\n        0.00840494],\n       [0.        , 0.        , 0.        , ..., 0.        , 1.        ,\n        0.        ],\n       [0.        , 0.        , 0.        , ..., 0.00840494, 0.        ,\n        1.        ]])"
     },
     "execution_count": 16,
     "metadata": {},
     "output_type": "execute_result"
    }
   ],
   "source": [
    "#Do the text classification using cosine Similarity\n",
    "cosine_sim = cosineSimillarity(train_copy_df[\"text\"])"
   ],
   "metadata": {
    "collapsed": false,
    "ExecuteTime": {
     "end_time": "2023-11-01T07:25:55.908943Z",
     "start_time": "2023-11-01T07:25:54.006089Z"
    }
   },
   "id": "c6f6acf53aa5751"
  },
  {
   "cell_type": "code",
   "execution_count": 31,
   "outputs": [],
   "source": [
    "from sklearn.metrics import classification_report\n",
    "\n",
    "\n",
    "def get_accuracy(y_pred_proba,y_test, y_pred, model_name):\n",
    "    print(f\"{model_name}:\")\n",
    "    print(accuracy_score(y_test, y_pred))\n",
    "    print(\"Confusion Matrix\")\n",
    "    print(confusion_matrix(y_test, y_pred))\n",
    "    print(\"Classification Report\")\n",
    "    print(classification_report(y_test, y_pred))\n",
    "    print(\"ROC Curve\")\n",
    "    fpr, tpr, thresholds = roc_curve(y_test, y_pred_proba)\n",
    "    roc_auc = roc_auc_score(y_test, probs)\n",
    "    plt.plot(fpr, tpr, label='ROC curve (area = %0.2f)' % roc_auc)\n",
    "    plt.plot([0,1], [0,1], 'k--')\n",
    "    plt.xlabel('False Positive Rate')\n",
    "    plt.ylabel('True Positive Rate')\n",
    "    plt.title('ROC Curve')\n",
    "    plt.legend(loc=\"lower right\")\n",
    "    plt.show()\n",
    "    print(\"*\"*50)"
   ],
   "metadata": {
    "collapsed": false,
    "ExecuteTime": {
     "end_time": "2023-11-01T08:14:18.416660Z",
     "start_time": "2023-11-01T08:14:18.377562Z"
    }
   },
   "id": "1491e4022b311b54"
  },
  {
   "cell_type": "code",
   "execution_count": 38,
   "outputs": [],
   "source": [
    "#Train the model to predict the target\n",
    "#Split the dataset into train and test\n",
    "from sklearn.model_selection import train_test_split\n",
    "X = train_copy_df[\"text\"]\n",
    "y = train_copy_df[\"target\"]\n",
    "X_train, X_test, y_train, y_test = train_test_split(X,y, test_size=0.2, random_state=42)\n",
    "# Use the tf-idf vectorizer to vectorize the training set\n",
    "tfidf_vectorizer = TfidfVectorizer(stop_words='english')\n",
    "tfidf_train = tfidf_vectorizer.fit_transform(X_train)\n",
    "tfidf_test = tfidf_vectorizer.transform(X_test)\n",
    "\n"
   ],
   "metadata": {
    "collapsed": false,
    "ExecuteTime": {
     "end_time": "2023-11-01T08:44:04.648526Z",
     "start_time": "2023-11-01T08:44:04.320489Z"
    }
   },
   "id": "2e6be8256e0165d5"
  },
  {
   "cell_type": "code",
   "execution_count": 25,
   "outputs": [
    {
     "name": "stdout",
     "output_type": "stream",
     "text": [
      "Accuracy: 75.97%\n"
     ]
    }
   ],
   "source": [
    "\n",
    "# Initialize the PassiveAggressiveClassifier\n",
    "pac = PassiveAggressiveClassifier(max_iter=50)\n",
    "pac.fit(tfidf_train, y_train)\n",
    "# make predictions on the test set\n",
    "y_pred = pac.predict(tfidf_test)\n",
    "#compute the accuracy with accuracy_score()\n",
    "from sklearn.metrics import accuracy_score\n",
    "score = accuracy_score(y_test, y_pred)\n",
    "print(f'Accuracy: {round(score*100,2)}%')\n",
    "\n"
   ],
   "metadata": {
    "collapsed": false,
    "ExecuteTime": {
     "end_time": "2023-11-01T08:04:43.580995Z",
     "start_time": "2023-11-01T08:04:43.243521Z"
    }
   },
   "id": "2b64c2bc4490c037"
  },
  {
   "cell_type": "code",
   "execution_count": 36,
   "outputs": [
    {
     "name": "stdout",
     "output_type": "stream",
     "text": [
      "Accuracy: 79.71%\n"
     ]
    },
    {
     "data": {
      "text/plain": "<Figure size 640x480 with 2 Axes>",
      "image/png": "[encoded data removed]"
     },
     "metadata": {},
     "output_type": "display_data"
    },
    {
     "name": "stdout",
     "output_type": "stream",
     "text": [
      "Support Vector Machine:\n",
      "0.7971109652002626\n",
      "Confusion Matrix\n",
      "[[778  96]\n",
      " [213 436]]\n",
      "Classification Report\n",
      "              precision    recall  f1-score   support\n",
      "\n",
      "           0       0.79      0.89      0.83       874\n",
      "           1       0.82      0.67      0.74       649\n",
      "\n",
      "    accuracy                           0.80      1523\n",
      "   macro avg       0.80      0.78      0.79      1523\n",
      "weighted avg       0.80      0.80      0.79      1523\n",
      "\n",
      "ROC Curve\n"
     ]
    },
    {
     "data": {
      "text/plain": "<Figure size 640x480 with 1 Axes>",
      "image/png": "[encoded data removed]"
     },
     "metadata": {},
     "output_type": "display_data"
    },
    {
     "name": "stdout",
     "output_type": "stream",
     "text": [
      "**************************************************\n"
     ]
    }
   ],
   "source": [
    "# Use SVM to make classification\n",
    "from sklearn.svm import SVC\n",
    "svc = SVC(probability=True)\n",
    "svc.fit(tfidf_train, y_train)\n",
    "# make predictions on the test set\n",
    "y_pred = svc.predict(tfidf_test)\n",
    "#compute the accuracy with accuracy_score()\n",
    "from sklearn.metrics import accuracy_score\n",
    "score = accuracy_score(y_test, y_pred)\n",
    "print(f'Accuracy: {round(score*100,2)}%')\n",
    "# plot the confusion matrix\n",
    "\n",
    "cm = confusion_matrix(y_test, y_pred)\n",
    "sns.heatmap(cm, annot=True, fmt='d')\n",
    "plt.show()\n",
    "# Display the ROC curve\n",
    "# predict probabilities\n",
    "probs = svc.predict_proba(tfidf_test)\n",
    "# keep probabilities for the positive outcome only\n",
    "probs = probs[:, 1]\n",
    "y_pred_proba = svc.predict_proba(tfidf_test)[:,1]\n",
    "get_accuracy(y_pred_proba,y_test, y_pred, \"Support Vector Machine\")\n"
   ],
   "metadata": {
    "collapsed": false,
    "ExecuteTime": {
     "end_time": "2023-11-01T08:37:13.877435Z",
     "start_time": "2023-11-01T08:36:50.885852Z"
    }
   },
   "id": "e4b415353effce00"
  },
  {
   "cell_type": "code",
   "execution_count": 11,
   "outputs": [
    {
     "name": "stdout",
     "output_type": "stream",
     "text": [
      "Accuracy: 78.99%\n"
     ]
    }
   ],
   "source": [
    "# Use Naive Bayes to make classification\n",
    "from sklearn.naive_bayes import MultinomialNB\n",
    "nb = MultinomialNB()\n",
    "nb.fit(tfidf_train, y_train)\n",
    "# make predictions on the test set\n",
    "y_pred = nb.predict(tfidf_test)\n",
    "#compute the accuracy with accuracy_score()\n",
    "from sklearn.metrics import accuracy_score\n",
    "score = accuracy_score(y_test, y_pred)\n",
    "print(f'Accuracy: {round(score*100,2)}%')\n"
   ],
   "metadata": {
    "collapsed": false,
    "ExecuteTime": {
     "end_time": "2023-11-01T07:39:06.586823Z",
     "start_time": "2023-11-01T07:39:06.464326Z"
    }
   },
   "id": "1ed574a431faf4a0"
  },
  {
   "cell_type": "code",
   "execution_count": 12,
   "outputs": [
    {
     "name": "stdout",
     "output_type": "stream",
     "text": [
      "Accuracy: 79.25%\n"
     ]
    }
   ],
   "source": [
    "# Use Logistic Regression to make classification\n",
    "from sklearn.linear_model import LogisticRegression\n",
    "lr = LogisticRegression()\n",
    "lr.fit(tfidf_train, y_train)\n",
    "# make predictions on the test set\n",
    "y_pred = lr.predict(tfidf_test)\n",
    "#compute the accuracy with accuracy_score()\n",
    "from sklearn.metrics import accuracy_score\n",
    "score = accuracy_score(y_test, y_pred)\n",
    "print(f'Accuracy: {round(score*100,2)}%')\n"
   ],
   "metadata": {
    "collapsed": false,
    "ExecuteTime": {
     "end_time": "2023-11-01T07:39:28.203257Z",
     "start_time": "2023-11-01T07:39:27.571787Z"
    }
   },
   "id": "ecde9c5da51ae88d"
  },
  {
   "cell_type": "code",
   "execution_count": 13,
   "outputs": [
    {
     "name": "stdout",
     "output_type": "stream",
     "text": [
      "Accuracy: 78.79%\n"
     ]
    }
   ],
   "source": [
    "# Use Random Forest to make classification\n",
    "from sklearn.ensemble import RandomForestClassifier\n",
    "rf = RandomForestClassifier()\n",
    "rf.fit(tfidf_train, y_train)\n",
    "# make predictions on the test set\n",
    "y_pred = rf.predict(tfidf_test)\n",
    "#compute the accuracy with accuracy_score()\n",
    "from sklearn.metrics import accuracy_score\n",
    "score = accuracy_score(y_test, y_pred)\n",
    "print(f'Accuracy: {round(score*100,2)}%')\n"
   ],
   "metadata": {
    "collapsed": false,
    "ExecuteTime": {
     "end_time": "2023-11-01T07:40:03.571056Z",
     "start_time": "2023-11-01T07:39:54.716959Z"
    }
   },
   "id": "fe826540394cd877"
  },
  {
   "cell_type": "code",
   "execution_count": 14,
   "outputs": [
    {
     "name": "stdout",
     "output_type": "stream",
     "text": [
      "Accuracy: 77.22%\n"
     ]
    }
   ],
   "source": [
    "# Use KNN to make classification\n",
    "from sklearn.neighbors import KNeighborsClassifier\n",
    "knn = KNeighborsClassifier()\n",
    "knn.fit(tfidf_train, y_train)\n",
    "# make predictions on the test set\n",
    "y_pred = knn.predict(tfidf_test)\n",
    "#compute the accuracy with accuracy_score()\n",
    "from sklearn.metrics import accuracy_score\n",
    "score = accuracy_score(y_test, y_pred)\n",
    "print(f'Accuracy: {round(score*100,2)}%')"
   ],
   "metadata": {
    "collapsed": false,
    "ExecuteTime": {
     "end_time": "2023-11-01T07:40:14.930869Z",
     "start_time": "2023-11-01T07:40:14.309482Z"
    }
   },
   "id": "4ccb681ca22e37fa"
  },
  {
   "cell_type": "code",
   "execution_count": 15,
   "outputs": [
    {
     "name": "stdout",
     "output_type": "stream",
     "text": [
      "Accuracy: 70.91%\n"
     ]
    }
   ],
   "source": [
    "# Use Decision Tree to make classification\n",
    "from sklearn.tree import DecisionTreeClassifier\n",
    "dt = DecisionTreeClassifier()\n",
    "dt.fit(tfidf_train, y_train)\n",
    "# make predictions on the test set\n",
    "y_pred = dt.predict(tfidf_test)\n",
    "#compute the accuracy with accuracy_score()\n",
    "from sklearn.metrics import accuracy_score\n",
    "score = accuracy_score(y_test, y_pred)\n",
    "print(f'Accuracy: {round(score*100,2)}%')"
   ],
   "metadata": {
    "collapsed": false,
    "ExecuteTime": {
     "end_time": "2023-11-01T07:40:38.223943Z",
     "start_time": "2023-11-01T07:40:36.518594Z"
    }
   },
   "id": "211bc7e23df7a0ae"
  },
  {
   "cell_type": "code",
   "execution_count": 17,
   "outputs": [
    {
     "name": "stdout",
     "output_type": "stream",
     "text": [
      "Accuracy: 75.44%\n"
     ]
    }
   ],
   "source": [
    "# Neural Network to make classification\n",
    "from sklearn.neural_network import MLPClassifier\n",
    "nn = MLPClassifier()\n",
    "nn.fit(tfidf_train, y_train)\n",
    "# make predictions on the test set\n",
    "y_pred = nn.predict(tfidf_test)\n",
    "#compute the accuracy with accuracy_score()\n",
    "from sklearn.metrics import accuracy_score\n",
    "score = accuracy_score(y_test, y_pred)\n",
    "print(f'Accuracy: {round(score*100,2)}%')\n"
   ],
   "metadata": {
    "collapsed": false,
    "ExecuteTime": {
     "end_time": "2023-11-01T07:43:57.454621Z",
     "start_time": "2023-11-01T07:42:12.233833Z"
    }
   },
   "id": "2f10ab6f4b573c69"
  },
  {
   "cell_type": "code",
   "execution_count": 18,
   "outputs": [
    {
     "name": "stdout",
     "output_type": "stream",
     "text": [
      "Iteration 1, loss = 0.69674261\n",
      "Iteration 2, loss = 0.69116597\n",
      "Iteration 3, loss = 0.68766573\n",
      "Iteration 4, loss = 0.68572434\n",
      "Iteration 5, loss = 0.68473094\n",
      "Iteration 6, loss = 0.68418082\n",
      "Iteration 7, loss = 0.68385799\n",
      "Iteration 8, loss = 0.68369858\n",
      "Iteration 9, loss = 0.68357708\n",
      "Iteration 10, loss = 0.68350425\n",
      "Iteration 11, loss = 0.68347981\n",
      "Iteration 12, loss = 0.68345643\n",
      "Iteration 13, loss = 0.68341927\n",
      "Iteration 14, loss = 0.68341059\n",
      "Iteration 15, loss = 0.68339529\n",
      "Iteration 16, loss = 0.68336250\n",
      "Iteration 17, loss = 0.68334093\n",
      "Iteration 18, loss = 0.68332067\n",
      "Iteration 19, loss = 0.68329903\n",
      "Iteration 20, loss = 0.68328602\n",
      "Iteration 21, loss = 0.68327909\n",
      "Iteration 22, loss = 0.68325166\n",
      "Iteration 23, loss = 0.68322555\n",
      "Iteration 24, loss = 0.68320543\n",
      "Iteration 25, loss = 0.68320163\n",
      "Iteration 26, loss = 0.68317563\n",
      "Iteration 27, loss = 0.68318032\n",
      "Iteration 28, loss = 0.68313985\n",
      "Iteration 29, loss = 0.68311207\n",
      "Iteration 30, loss = 0.68308816\n",
      "Iteration 31, loss = 0.68306592\n",
      "Iteration 32, loss = 0.68304536\n",
      "Iteration 33, loss = 0.68303236\n",
      "Iteration 34, loss = 0.68302390\n",
      "Iteration 35, loss = 0.68298714\n",
      "Iteration 36, loss = 0.68297056\n",
      "Iteration 37, loss = 0.68294072\n",
      "Iteration 38, loss = 0.68292665\n",
      "Iteration 39, loss = 0.68289477\n",
      "Iteration 40, loss = 0.68288137\n",
      "Iteration 41, loss = 0.68286057\n",
      "Iteration 42, loss = 0.68282907\n",
      "Iteration 43, loss = 0.68281517\n",
      "Iteration 44, loss = 0.68279735\n",
      "Iteration 45, loss = 0.68276305\n",
      "Iteration 46, loss = 0.68273796\n",
      "Iteration 47, loss = 0.68274300\n",
      "Iteration 48, loss = 0.68269036\n",
      "Iteration 49, loss = 0.68268566\n",
      "Iteration 50, loss = 0.68265205\n",
      "Iteration 51, loss = 0.68262094\n",
      "Iteration 52, loss = 0.68260394\n",
      "Iteration 53, loss = 0.68257268\n",
      "Iteration 54, loss = 0.68254781\n",
      "Iteration 55, loss = 0.68253740\n",
      "Iteration 56, loss = 0.68251665\n",
      "Iteration 57, loss = 0.68247196\n",
      "Iteration 58, loss = 0.68244009\n",
      "Iteration 59, loss = 0.68243818\n",
      "Iteration 60, loss = 0.68238874\n",
      "Iteration 61, loss = 0.68236521\n",
      "Iteration 62, loss = 0.68232965\n",
      "Iteration 63, loss = 0.68230978\n",
      "Iteration 64, loss = 0.68227951\n",
      "Iteration 65, loss = 0.68225013\n",
      "Iteration 66, loss = 0.68221809\n",
      "Iteration 67, loss = 0.68218989\n",
      "Iteration 68, loss = 0.68217247\n",
      "Iteration 69, loss = 0.68213581\n",
      "Iteration 70, loss = 0.68209567\n",
      "Iteration 71, loss = 0.68206909\n",
      "Iteration 72, loss = 0.68203006\n",
      "Iteration 73, loss = 0.68199548\n",
      "Iteration 74, loss = 0.68196861\n",
      "Iteration 75, loss = 0.68193865\n",
      "Iteration 76, loss = 0.68190989\n",
      "Iteration 77, loss = 0.68186813\n",
      "Iteration 78, loss = 0.68182324\n",
      "Iteration 79, loss = 0.68180812\n",
      "Iteration 80, loss = 0.68175791\n",
      "Iteration 81, loss = 0.68173117\n",
      "Iteration 82, loss = 0.68168171\n",
      "Iteration 83, loss = 0.68163772\n",
      "Iteration 84, loss = 0.68159319\n",
      "Iteration 85, loss = 0.68156076\n",
      "Iteration 86, loss = 0.68151688\n",
      "Iteration 87, loss = 0.68147741\n",
      "Iteration 88, loss = 0.68144142\n",
      "Iteration 89, loss = 0.68141708\n",
      "Iteration 90, loss = 0.68136280\n",
      "Iteration 91, loss = 0.68130684\n",
      "Iteration 92, loss = 0.68127202\n",
      "Iteration 93, loss = 0.68121277\n",
      "Iteration 94, loss = 0.68116936\n",
      "Iteration 95, loss = 0.68112017\n",
      "Iteration 96, loss = 0.68107318\n",
      "Iteration 97, loss = 0.68102460\n",
      "Iteration 98, loss = 0.68096114\n",
      "Iteration 99, loss = 0.68090920\n",
      "Iteration 100, loss = 0.68083897\n",
      "Iteration 101, loss = 0.68080038\n",
      "Iteration 102, loss = 0.68077551\n",
      "Iteration 103, loss = 0.68066752\n",
      "Iteration 104, loss = 0.68060318\n",
      "Iteration 105, loss = 0.68054757\n",
      "Iteration 106, loss = 0.68048586\n",
      "Iteration 107, loss = 0.68043427\n",
      "Iteration 108, loss = 0.68036011\n",
      "Iteration 109, loss = 0.68030159\n",
      "Iteration 110, loss = 0.68026968\n",
      "Iteration 111, loss = 0.68016628\n",
      "Iteration 112, loss = 0.68011638\n",
      "Iteration 113, loss = 0.68003404\n",
      "Iteration 114, loss = 0.67995771\n",
      "Iteration 115, loss = 0.67989549\n",
      "Iteration 116, loss = 0.67980626\n",
      "Iteration 117, loss = 0.67975319\n",
      "Iteration 118, loss = 0.67965192\n",
      "Iteration 119, loss = 0.67958377\n",
      "Iteration 120, loss = 0.67950217\n",
      "Iteration 121, loss = 0.67942332\n",
      "Iteration 122, loss = 0.67936017\n",
      "Iteration 123, loss = 0.67925792\n",
      "Iteration 124, loss = 0.67918132\n",
      "Iteration 125, loss = 0.67909190\n",
      "Iteration 126, loss = 0.67900062\n",
      "Iteration 127, loss = 0.67890600\n",
      "Iteration 128, loss = 0.67881007\n",
      "Iteration 129, loss = 0.67872917\n",
      "Iteration 130, loss = 0.67861294\n",
      "Iteration 131, loss = 0.67851751\n",
      "Iteration 132, loss = 0.67842850\n",
      "Iteration 133, loss = 0.67831458\n",
      "Iteration 134, loss = 0.67818420\n",
      "Iteration 135, loss = 0.67805620\n",
      "Iteration 136, loss = 0.67792235\n",
      "Iteration 137, loss = 0.67779359\n",
      "Iteration 138, loss = 0.67768125\n",
      "Iteration 139, loss = 0.67755140\n",
      "Iteration 140, loss = 0.67742565\n",
      "Iteration 141, loss = 0.67734477\n",
      "Iteration 142, loss = 0.67717999\n",
      "Iteration 143, loss = 0.67703470\n",
      "Iteration 144, loss = 0.67690593\n",
      "Iteration 145, loss = 0.67679284\n",
      "Iteration 146, loss = 0.67664405\n",
      "Iteration 147, loss = 0.67653341\n",
      "Iteration 148, loss = 0.67634520\n",
      "Iteration 149, loss = 0.67620229\n",
      "Iteration 150, loss = 0.67602906\n",
      "Iteration 151, loss = 0.67588313\n",
      "Iteration 152, loss = 0.67571902\n",
      "Iteration 153, loss = 0.67555463\n",
      "Iteration 154, loss = 0.67539100\n",
      "Iteration 155, loss = 0.67522505\n",
      "Iteration 156, loss = 0.67504093\n",
      "Iteration 157, loss = 0.67486022\n",
      "Iteration 158, loss = 0.67470131\n",
      "Iteration 159, loss = 0.67448664\n",
      "Iteration 160, loss = 0.67429727\n",
      "Iteration 161, loss = 0.67413807\n",
      "Iteration 162, loss = 0.67391275\n",
      "Iteration 163, loss = 0.67368973\n",
      "Iteration 164, loss = 0.67349744\n",
      "Iteration 165, loss = 0.67328086\n",
      "Iteration 166, loss = 0.67301907\n",
      "Iteration 167, loss = 0.67284265\n",
      "Iteration 168, loss = 0.67258896\n",
      "Iteration 169, loss = 0.67232366\n",
      "Iteration 170, loss = 0.67209788\n",
      "Iteration 171, loss = 0.67182769\n",
      "Iteration 172, loss = 0.67156658\n",
      "Iteration 173, loss = 0.67129724\n",
      "Iteration 174, loss = 0.67101166\n",
      "Iteration 175, loss = 0.67073262\n",
      "Iteration 176, loss = 0.67047587\n",
      "Iteration 177, loss = 0.67022582\n",
      "Iteration 178, loss = 0.66986494\n",
      "Iteration 179, loss = 0.66951662\n",
      "Iteration 180, loss = 0.66918732\n",
      "Iteration 181, loss = 0.66885294\n",
      "Iteration 182, loss = 0.66850009\n",
      "Iteration 183, loss = 0.66813975\n",
      "Iteration 184, loss = 0.66779893\n",
      "Iteration 185, loss = 0.66742440\n",
      "Iteration 186, loss = 0.66704032\n",
      "Iteration 187, loss = 0.66665570\n",
      "Iteration 188, loss = 0.66625056\n",
      "Iteration 189, loss = 0.66580050\n",
      "Iteration 190, loss = 0.66536105\n",
      "Iteration 191, loss = 0.66493159\n",
      "Iteration 192, loss = 0.66447954\n",
      "Iteration 193, loss = 0.66399521\n",
      "Iteration 194, loss = 0.66351794\n",
      "Iteration 195, loss = 0.66299386\n",
      "Iteration 196, loss = 0.66248217\n",
      "Iteration 197, loss = 0.66194522\n",
      "Iteration 198, loss = 0.66139163\n",
      "Iteration 199, loss = 0.66083237\n",
      "Iteration 200, loss = 0.66022510\n",
      "Iteration 201, loss = 0.65962759\n",
      "Iteration 202, loss = 0.65900712\n",
      "Iteration 203, loss = 0.65838180\n",
      "Iteration 204, loss = 0.65767318\n",
      "Iteration 205, loss = 0.65704017\n",
      "Iteration 206, loss = 0.65627123\n",
      "Iteration 207, loss = 0.65554313\n",
      "Iteration 208, loss = 0.65484395\n",
      "Iteration 209, loss = 0.65401513\n",
      "Iteration 210, loss = 0.65317258\n",
      "Iteration 211, loss = 0.65234558\n",
      "Iteration 212, loss = 0.65147335\n",
      "Iteration 213, loss = 0.65064689\n",
      "Iteration 214, loss = 0.64962230\n",
      "Iteration 215, loss = 0.64868420\n",
      "Iteration 216, loss = 0.64766274\n",
      "Iteration 217, loss = 0.64658929\n",
      "Iteration 218, loss = 0.64548493\n",
      "Iteration 219, loss = 0.64433477\n",
      "Iteration 220, loss = 0.64300403\n",
      "Iteration 221, loss = 0.64171071\n",
      "Iteration 222, loss = 0.64041945\n",
      "Iteration 223, loss = 0.63912552\n",
      "Iteration 224, loss = 0.63778965\n",
      "Iteration 225, loss = 0.63634005\n",
      "Iteration 226, loss = 0.63494928\n",
      "Iteration 227, loss = 0.63343013\n",
      "Iteration 228, loss = 0.63186063\n",
      "Iteration 229, loss = 0.63029341\n",
      "Iteration 230, loss = 0.62872147\n",
      "Iteration 231, loss = 0.62695569\n",
      "Iteration 232, loss = 0.62523226\n",
      "Iteration 233, loss = 0.62325564\n",
      "Iteration 234, loss = 0.62126323\n",
      "Iteration 235, loss = 0.61931881\n",
      "Iteration 236, loss = 0.61719934\n",
      "Iteration 237, loss = 0.61510471\n",
      "Iteration 238, loss = 0.61298269\n",
      "Iteration 239, loss = 0.61070156\n",
      "Iteration 240, loss = 0.60828955\n",
      "Iteration 241, loss = 0.60576941\n",
      "Iteration 242, loss = 0.60334313\n",
      "Iteration 243, loss = 0.60057505\n",
      "Iteration 244, loss = 0.59781736\n",
      "Iteration 245, loss = 0.59502319\n",
      "Iteration 246, loss = 0.59218659\n",
      "Iteration 247, loss = 0.58924775\n",
      "Iteration 248, loss = 0.58614891\n",
      "Iteration 249, loss = 0.58301877\n",
      "Iteration 250, loss = 0.57976302\n",
      "Iteration 251, loss = 0.57662922\n",
      "Iteration 252, loss = 0.57323531\n",
      "Iteration 253, loss = 0.56943105\n",
      "Iteration 254, loss = 0.56588171\n",
      "Iteration 255, loss = 0.56240345\n",
      "Iteration 256, loss = 0.55853673\n",
      "Iteration 257, loss = 0.55457152\n",
      "Iteration 258, loss = 0.55071565\n",
      "Iteration 259, loss = 0.54681250\n",
      "Iteration 260, loss = 0.54255963\n",
      "Iteration 261, loss = 0.53845950\n",
      "Iteration 262, loss = 0.53413347\n",
      "Iteration 263, loss = 0.52995398\n",
      "Iteration 264, loss = 0.52559224\n",
      "Iteration 265, loss = 0.52113962\n",
      "Iteration 266, loss = 0.51666873\n",
      "Iteration 267, loss = 0.51241606\n",
      "Iteration 268, loss = 0.50785666\n",
      "Iteration 269, loss = 0.50320045\n",
      "Iteration 270, loss = 0.49872933\n",
      "Iteration 271, loss = 0.49428584\n",
      "Iteration 272, loss = 0.48940146\n",
      "Iteration 273, loss = 0.48509176\n",
      "Iteration 274, loss = 0.47997437\n",
      "Iteration 275, loss = 0.47540215\n",
      "Iteration 276, loss = 0.47091639\n",
      "Iteration 277, loss = 0.46636079\n",
      "Iteration 278, loss = 0.46171925\n",
      "Iteration 279, loss = 0.45679923\n",
      "Iteration 280, loss = 0.45244919\n",
      "Iteration 281, loss = 0.44753604\n",
      "Iteration 282, loss = 0.44302589\n",
      "Iteration 283, loss = 0.43847436\n",
      "Iteration 284, loss = 0.43379936\n",
      "Iteration 285, loss = 0.42932376\n",
      "Iteration 286, loss = 0.42464992\n",
      "Iteration 287, loss = 0.42015294\n",
      "Iteration 288, loss = 0.41566959\n",
      "Iteration 289, loss = 0.41121491\n",
      "Iteration 290, loss = 0.40705427\n",
      "Iteration 291, loss = 0.40249750\n",
      "Iteration 292, loss = 0.39802596\n",
      "Iteration 293, loss = 0.39455300\n",
      "Iteration 294, loss = 0.38930768\n",
      "Iteration 295, loss = 0.38516165\n",
      "Iteration 296, loss = 0.38070026\n",
      "Iteration 297, loss = 0.37690208\n",
      "Iteration 298, loss = 0.37211115\n",
      "Iteration 299, loss = 0.36759049\n",
      "Iteration 300, loss = 0.36443664\n",
      "Iteration 301, loss = 0.35952217\n",
      "Iteration 302, loss = 0.35544555\n",
      "Iteration 303, loss = 0.35117822\n",
      "Iteration 304, loss = 0.34737241\n",
      "Iteration 305, loss = 0.34334572\n",
      "Iteration 306, loss = 0.33913968\n",
      "Iteration 307, loss = 0.33503803\n",
      "Iteration 308, loss = 0.33106768\n",
      "Iteration 309, loss = 0.32742774\n",
      "Iteration 310, loss = 0.32328337\n",
      "Iteration 311, loss = 0.31927473\n",
      "Iteration 312, loss = 0.31592342\n",
      "Iteration 313, loss = 0.31246857\n",
      "Iteration 314, loss = 0.30814179\n",
      "Iteration 315, loss = 0.30423605\n",
      "Iteration 316, loss = 0.30069410\n",
      "Iteration 317, loss = 0.29686598\n",
      "Iteration 318, loss = 0.29288011\n",
      "Iteration 319, loss = 0.28883477\n",
      "Iteration 320, loss = 0.28577983\n",
      "Iteration 321, loss = 0.28159456\n",
      "Iteration 322, loss = 0.27825243\n",
      "Iteration 323, loss = 0.27475104\n",
      "Iteration 324, loss = 0.27122416\n",
      "Iteration 325, loss = 0.26734587\n",
      "Iteration 326, loss = 0.26385919\n",
      "Iteration 327, loss = 0.26034087\n",
      "Iteration 328, loss = 0.25771274\n",
      "Iteration 329, loss = 0.25372408\n",
      "Iteration 330, loss = 0.24986475\n",
      "Iteration 331, loss = 0.24651858\n",
      "Iteration 332, loss = 0.24319278\n",
      "Iteration 333, loss = 0.23974264\n",
      "Iteration 334, loss = 0.23612441\n",
      "Iteration 335, loss = 0.23318686\n",
      "Iteration 336, loss = 0.22959942\n",
      "Iteration 337, loss = 0.22628486\n",
      "Iteration 338, loss = 0.22330998\n",
      "Iteration 339, loss = 0.21983315\n",
      "Iteration 340, loss = 0.21630484\n",
      "Iteration 341, loss = 0.21307524\n",
      "Iteration 342, loss = 0.20992627\n",
      "Iteration 343, loss = 0.20694429\n",
      "Iteration 344, loss = 0.20328933\n",
      "Iteration 345, loss = 0.20050234\n",
      "Iteration 346, loss = 0.19762783\n",
      "Iteration 347, loss = 0.19480252\n",
      "Iteration 348, loss = 0.19099767\n",
      "Iteration 349, loss = 0.18844290\n",
      "Iteration 350, loss = 0.18459820\n",
      "Iteration 351, loss = 0.18179507\n",
      "Iteration 352, loss = 0.17886986\n",
      "Iteration 353, loss = 0.17573399\n",
      "Iteration 354, loss = 0.17270917\n",
      "Iteration 355, loss = 0.16966488\n",
      "Iteration 356, loss = 0.16696155\n",
      "Iteration 357, loss = 0.16344432\n",
      "Iteration 358, loss = 0.16122832\n",
      "Iteration 359, loss = 0.15841598\n",
      "Iteration 360, loss = 0.15580305\n",
      "Iteration 361, loss = 0.15265675\n",
      "Iteration 362, loss = 0.15031841\n",
      "Iteration 363, loss = 0.14768885\n",
      "Iteration 364, loss = 0.14499835\n",
      "Iteration 365, loss = 0.14220284\n",
      "Iteration 366, loss = 0.13992550\n",
      "Iteration 367, loss = 0.13718649\n",
      "Iteration 368, loss = 0.13488670\n",
      "Iteration 369, loss = 0.13223717\n",
      "Iteration 370, loss = 0.12984157\n",
      "Iteration 371, loss = 0.12742971\n",
      "Iteration 372, loss = 0.12497945\n",
      "Iteration 373, loss = 0.12255714\n",
      "Iteration 374, loss = 0.12053951\n",
      "Iteration 375, loss = 0.11802923\n",
      "Iteration 376, loss = 0.11593256\n",
      "Iteration 377, loss = 0.11364024\n",
      "Iteration 378, loss = 0.11138091\n",
      "Iteration 379, loss = 0.11018291\n",
      "Iteration 380, loss = 0.10773705\n",
      "Iteration 381, loss = 0.10549755\n",
      "Iteration 382, loss = 0.10418394\n",
      "Iteration 383, loss = 0.10179652\n",
      "Iteration 384, loss = 0.09953931\n",
      "Iteration 385, loss = 0.09861667\n",
      "Iteration 386, loss = 0.09609220\n",
      "Iteration 387, loss = 0.09422576\n",
      "Iteration 388, loss = 0.09254189\n",
      "Iteration 389, loss = 0.09074980\n",
      "Iteration 390, loss = 0.08907607\n",
      "Iteration 391, loss = 0.08767526\n",
      "Iteration 392, loss = 0.08601782\n",
      "Iteration 393, loss = 0.08424188\n",
      "Iteration 394, loss = 0.08306407\n",
      "Iteration 395, loss = 0.08123086\n",
      "Iteration 396, loss = 0.07959796\n",
      "Iteration 397, loss = 0.07856729\n",
      "Iteration 398, loss = 0.07706646\n",
      "Iteration 399, loss = 0.07539491\n",
      "Iteration 400, loss = 0.07399094\n",
      "Iteration 401, loss = 0.07288837\n",
      "Iteration 402, loss = 0.07161478\n",
      "Iteration 403, loss = 0.07014464\n",
      "Iteration 404, loss = 0.06919075\n",
      "Iteration 405, loss = 0.06767557\n",
      "Iteration 406, loss = 0.06657956\n",
      "Iteration 407, loss = 0.06554327\n",
      "Iteration 408, loss = 0.06438228\n",
      "Iteration 409, loss = 0.06312119\n",
      "Iteration 410, loss = 0.06226547\n",
      "Iteration 411, loss = 0.06124377\n",
      "Iteration 412, loss = 0.06006797\n",
      "Iteration 413, loss = 0.05894657\n",
      "Iteration 414, loss = 0.05794055\n",
      "Iteration 415, loss = 0.05721443\n",
      "Iteration 416, loss = 0.05620688\n",
      "Iteration 417, loss = 0.05523092\n",
      "Iteration 418, loss = 0.05427169\n",
      "Iteration 419, loss = 0.05337866\n",
      "Iteration 420, loss = 0.05257694\n",
      "Iteration 421, loss = 0.05177932\n",
      "Iteration 422, loss = 0.05087915\n",
      "Iteration 423, loss = 0.05015346\n",
      "Iteration 424, loss = 0.04919299\n",
      "Iteration 425, loss = 0.04861335\n",
      "Iteration 426, loss = 0.04788186\n",
      "Iteration 427, loss = 0.04722897\n",
      "Iteration 428, loss = 0.04641550\n",
      "Iteration 429, loss = 0.04566488\n",
      "Iteration 430, loss = 0.04502195\n",
      "Iteration 431, loss = 0.04423364\n",
      "Iteration 432, loss = 0.04374925\n",
      "Iteration 433, loss = 0.04310131\n",
      "Iteration 434, loss = 0.04228179\n",
      "Iteration 435, loss = 0.04178627\n",
      "Iteration 436, loss = 0.04116989\n",
      "Iteration 437, loss = 0.04059333\n",
      "Iteration 438, loss = 0.03988908\n",
      "Iteration 439, loss = 0.03973385\n",
      "Iteration 440, loss = 0.03882077\n",
      "Iteration 441, loss = 0.03838717\n",
      "Iteration 442, loss = 0.03794914\n",
      "Iteration 443, loss = 0.03729908\n",
      "Iteration 444, loss = 0.03670751\n",
      "Iteration 445, loss = 0.03619338\n",
      "Iteration 446, loss = 0.03571284\n",
      "Iteration 447, loss = 0.03550045\n",
      "Iteration 448, loss = 0.03489608\n",
      "Iteration 449, loss = 0.03423130\n",
      "Iteration 450, loss = 0.03383233\n",
      "Iteration 451, loss = 0.03357072\n",
      "Iteration 452, loss = 0.03298313\n",
      "Iteration 453, loss = 0.03252308\n",
      "Iteration 454, loss = 0.03208086\n",
      "Iteration 455, loss = 0.03207513\n",
      "Iteration 456, loss = 0.03120130\n",
      "Iteration 457, loss = 0.03089238\n",
      "Iteration 458, loss = 0.03058618\n",
      "Iteration 459, loss = 0.03030890\n",
      "Iteration 460, loss = 0.02995178\n",
      "Iteration 461, loss = 0.02960374\n",
      "Iteration 462, loss = 0.02919286\n",
      "Iteration 463, loss = 0.02870626\n",
      "Iteration 464, loss = 0.02840198\n",
      "Iteration 465, loss = 0.02817574\n",
      "Iteration 466, loss = 0.02806172\n",
      "Iteration 467, loss = 0.02745422\n",
      "Iteration 468, loss = 0.02728467\n",
      "Iteration 469, loss = 0.02686452\n",
      "Iteration 470, loss = 0.02666067\n",
      "Iteration 471, loss = 0.02655442\n",
      "Iteration 472, loss = 0.02615437\n",
      "Iteration 473, loss = 0.02577327\n",
      "Iteration 474, loss = 0.02567263\n",
      "Iteration 475, loss = 0.02513938\n",
      "Iteration 476, loss = 0.02501903\n",
      "Iteration 477, loss = 0.02463709\n",
      "Iteration 478, loss = 0.02442284\n",
      "Iteration 479, loss = 0.02416152\n",
      "Iteration 480, loss = 0.02377334\n",
      "Iteration 481, loss = 0.02360775\n",
      "Iteration 482, loss = 0.02333349\n",
      "Iteration 483, loss = 0.02315715\n",
      "Iteration 484, loss = 0.02304011\n",
      "Iteration 485, loss = 0.02262971\n",
      "Iteration 486, loss = 0.02243176\n",
      "Iteration 487, loss = 0.02191814\n",
      "Iteration 488, loss = 0.02208963\n",
      "Iteration 489, loss = 0.02169499\n",
      "Iteration 490, loss = 0.02146106\n",
      "Iteration 491, loss = 0.02140921\n",
      "Iteration 492, loss = 0.02106498\n",
      "Iteration 493, loss = 0.02077161\n",
      "Iteration 494, loss = 0.02053365\n",
      "Iteration 495, loss = 0.02060278\n",
      "Iteration 496, loss = 0.02011717\n",
      "Iteration 497, loss = 0.02003566\n",
      "Iteration 498, loss = 0.01980490\n",
      "Iteration 499, loss = 0.01984052\n",
      "Iteration 500, loss = 0.01945427\n"
     ]
    },
    {
     "name": "stderr",
     "output_type": "stream",
     "text": [
      "/Users/claudekwizera/anaconda3/lib/python3.10/site-packages/sklearn/neural_network/_multilayer_perceptron.py:684: ConvergenceWarning: Stochastic Optimizer: Maximum iterations (500) reached and the optimization hasn't converged yet.\n",
      "  warnings.warn(\n"
     ]
    },
    {
     "data": {
      "text/plain": "      Actual  Predicted\n2644       1          0\n2227       0          0\n5448       1          1\n132        0          0\n6845       0          0\n...      ...        ...\n1835       0          0\n506        1          1\n3592       1          1\n6740       1          1\n1634       0          1\n\n[1523 rows x 2 columns]",
      "text/html": "<div>\n<style scoped>\n    .dataframe tbody tr th:only-of-type {\n        vertical-align: middle;\n    }\n\n    .dataframe tbody tr th {\n        vertical-align: top;\n    }\n\n    .dataframe thead th {\n        text-align: right;\n    }\n</style>\n<table border=\"1\" class=\"dataframe\">\n  <thead>\n    <tr style=\"text-align: right;\">\n      <th></th>\n      <th>Actual</th>\n      <th>Predicted</th>\n    </tr>\n  </thead>\n  <tbody>\n    <tr>\n      <th>2644</th>\n      <td>1</td>\n      <td>0</td>\n    </tr>\n    <tr>\n      <th>2227</th>\n      <td>0</td>\n      <td>0</td>\n    </tr>\n    <tr>\n      <th>5448</th>\n      <td>1</td>\n      <td>1</td>\n    </tr>\n    <tr>\n      <th>132</th>\n      <td>0</td>\n      <td>0</td>\n    </tr>\n    <tr>\n      <th>6845</th>\n      <td>0</td>\n      <td>0</td>\n    </tr>\n    <tr>\n      <th>...</th>\n      <td>...</td>\n      <td>...</td>\n    </tr>\n    <tr>\n      <th>1835</th>\n      <td>0</td>\n      <td>0</td>\n    </tr>\n    <tr>\n      <th>506</th>\n      <td>1</td>\n      <td>1</td>\n    </tr>\n    <tr>\n      <th>3592</th>\n      <td>1</td>\n      <td>1</td>\n    </tr>\n    <tr>\n      <th>6740</th>\n      <td>1</td>\n      <td>1</td>\n    </tr>\n    <tr>\n      <th>1634</th>\n      <td>0</td>\n      <td>1</td>\n    </tr>\n  </tbody>\n</table>\n<p>1523 rows × 2 columns</p>\n</div>"
     },
     "metadata": {},
     "output_type": "display_data"
    },
    {
     "data": {
      "text/plain": "<Figure size 640x480 with 2 Axes>",
      "image/png": "[encoded data removed]"
     },
     "metadata": {},
     "output_type": "display_data"
    },
    {
     "name": "stdout",
     "output_type": "stream",
     "text": [
      "AUC: 0.840\n"
     ]
    },
    {
     "data": {
      "text/plain": "<Figure size 640x480 with 1 Axes>",
      "image/png": "[encoded data removed]"
     },
     "metadata": {},
     "output_type": "display_data"
    },
    {
     "name": "stdout",
     "output_type": "stream",
     "text": [
      "Accuracy: 77.15%\n"
     ]
    }
   ],
   "source": [
    "#Use Neural Network to make classification with different parameters and epochs and layers\n",
    "from sklearn.neural_network import MLPClassifier\n",
    "nn = MLPClassifier(hidden_layer_sizes=(100,100,100), max_iter=500, alpha=0.0001,\n",
    "                     solver='sgd', verbose=10,  random_state=21,tol=0.000000001)\n",
    "nn.fit(tfidf_train, y_train)\n",
    "# make predictions on the test set\n",
    "y_pred = nn.predict(tfidf_test)\n",
    "# Display predictions vs actual values in a dataframe\n",
    "df = pd.DataFrame({'Actual': y_test, 'Predicted': y_pred})\n",
    "display(df)\n",
    "\n",
    "#Plot the confusion matrix\n",
    "from sklearn.metrics import confusion_matrix\n",
    "import seaborn as sns\n",
    "import matplotlib.pyplot as plt\n",
    "cm = confusion_matrix(y_test, y_pred)\n",
    "sns.heatmap(cm, annot=True, fmt='d')\n",
    "plt.show()\n",
    "# Display the ROC curve\n",
    "from sklearn.metrics import roc_curve\n",
    "from sklearn.metrics import roc_auc_score\n",
    "# predict probabilities\n",
    "probs = nn.predict_proba(tfidf_test)\n",
    "# keep probabilities for the positive outcome only\n",
    "probs = probs[:, 1]\n",
    "# calculate AUC\n",
    "auc = roc_auc_score(y_test, probs)\n",
    "print('AUC: %.3f' % auc)\n",
    "# calculate roc curve\n",
    "fpr, tpr, thresholds = roc_curve(y_test, probs)\n",
    "# plot no skill\n",
    "plt.plot([0, 1], [0, 1], linestyle='--')\n",
    "# plot the roc curve for the model\n",
    "plt.plot(fpr, tpr, marker='.')\n",
    "# show the plot\n",
    "plt.show()\n",
    "\n",
    "\n",
    "#compute the accuracy with accuracy_score()\n",
    "from sklearn.metrics import accuracy_score\n",
    "score = accuracy_score(y_test, y_pred)\n",
    "print(f'Accuracy: {round(score*100,2)}%')"
   ],
   "metadata": {
    "collapsed": false,
    "ExecuteTime": {
     "end_time": "2023-11-01T07:53:46.482786Z",
     "start_time": "2023-11-01T07:45:54.442771Z"
    }
   },
   "id": "aca0c3a2e9cbcb4b"
  },
  {
   "cell_type": "code",
   "execution_count": 19,
   "outputs": [
    {
     "data": {
      "text/plain": "         id keyword location  \\\n0         0     NaN      NaN   \n1         2     NaN      NaN   \n2         3     NaN      NaN   \n3         9     NaN      NaN   \n4        11     NaN      NaN   \n...     ...     ...      ...   \n3258  10861     NaN      NaN   \n3259  10865     NaN      NaN   \n3260  10868     NaN      NaN   \n3261  10874     NaN      NaN   \n3262  10875     NaN      NaN   \n\n                                                   text  \n0                    Just happened a terrible car crash  \n1     Heard about #earthquake is different cities, s...  \n2     there is a forest fire at spot pond, geese are...  \n3              Apocalypse lighting. #Spokane #wildfires  \n4         Typhoon Soudelor kills 28 in China and Taiwan  \n...                                                 ...  \n3258  EARTHQUAKE SAFETY LOS ANGELES ÛÒ SAFETY FASTE...  \n3259  Storm in RI worse than last hurricane. My city...  \n3260  Green Line derailment in Chicago http://t.co/U...  \n3261  MEG issues Hazardous Weather Outlook (HWO) htt...  \n3262  #CityofCalgary has activated its Municipal Eme...  \n\n[3263 rows x 4 columns]",
      "text/html": "<div>\n<style scoped>\n    .dataframe tbody tr th:only-of-type {\n        vertical-align: middle;\n    }\n\n    .dataframe tbody tr th {\n        vertical-align: top;\n    }\n\n    .dataframe thead th {\n        text-align: right;\n    }\n</style>\n<table border=\"1\" class=\"dataframe\">\n  <thead>\n    <tr style=\"text-align: right;\">\n      <th></th>\n      <th>id</th>\n      <th>keyword</th>\n      <th>location</th>\n      <th>text</th>\n    </tr>\n  </thead>\n  <tbody>\n    <tr>\n      <th>0</th>\n      <td>0</td>\n      <td>NaN</td>\n      <td>NaN</td>\n      <td>Just happened a terrible car crash</td>\n    </tr>\n    <tr>\n      <th>1</th>\n      <td>2</td>\n      <td>NaN</td>\n      <td>NaN</td>\n      <td>Heard about #earthquake is different cities, s...</td>\n    </tr>\n    <tr>\n      <th>2</th>\n      <td>3</td>\n      <td>NaN</td>\n      <td>NaN</td>\n      <td>there is a forest fire at spot pond, geese are...</td>\n    </tr>\n    <tr>\n      <th>3</th>\n      <td>9</td>\n      <td>NaN</td>\n      <td>NaN</td>\n      <td>Apocalypse lighting. #Spokane #wildfires</td>\n    </tr>\n    <tr>\n      <th>4</th>\n      <td>11</td>\n      <td>NaN</td>\n      <td>NaN</td>\n      <td>Typhoon Soudelor kills 28 in China and Taiwan</td>\n    </tr>\n    <tr>\n      <th>...</th>\n      <td>...</td>\n      <td>...</td>\n      <td>...</td>\n      <td>...</td>\n    </tr>\n    <tr>\n      <th>3258</th>\n      <td>10861</td>\n      <td>NaN</td>\n      <td>NaN</td>\n      <td>EARTHQUAKE SAFETY LOS ANGELES ÛÒ SAFETY FASTE...</td>\n    </tr>\n    <tr>\n      <th>3259</th>\n      <td>10865</td>\n      <td>NaN</td>\n      <td>NaN</td>\n      <td>Storm in RI worse than last hurricane. My city...</td>\n    </tr>\n    <tr>\n      <th>3260</th>\n      <td>10868</td>\n      <td>NaN</td>\n      <td>NaN</td>\n      <td>Green Line derailment in Chicago http://t.co/U...</td>\n    </tr>\n    <tr>\n      <th>3261</th>\n      <td>10874</td>\n      <td>NaN</td>\n      <td>NaN</td>\n      <td>MEG issues Hazardous Weather Outlook (HWO) htt...</td>\n    </tr>\n    <tr>\n      <th>3262</th>\n      <td>10875</td>\n      <td>NaN</td>\n      <td>NaN</td>\n      <td>#CityofCalgary has activated its Municipal Eme...</td>\n    </tr>\n  </tbody>\n</table>\n<p>3263 rows × 4 columns</p>\n</div>"
     },
     "metadata": {},
     "output_type": "display_data"
    }
   ],
   "source": [
    "#Read the test dataset\n",
    "test_df = pd.read_csv(\"./data/test.csv\")\n",
    "display(test_df)"
   ],
   "metadata": {
    "collapsed": false,
    "ExecuteTime": {
     "end_time": "2023-11-01T07:55:00.481691Z",
     "start_time": "2023-11-01T07:55:00.361688Z"
    }
   },
   "id": "b098c0e94f19863b"
  },
  {
   "cell_type": "code",
   "execution_count": 20,
   "outputs": [
    {
     "data": {
      "text/plain": "         id keyword location  \\\n0         0     NaN      NaN   \n1         2     NaN      NaN   \n2         3     NaN      NaN   \n3         9     NaN      NaN   \n4        11     NaN      NaN   \n...     ...     ...      ...   \n3258  10861     NaN      NaN   \n3259  10865     NaN      NaN   \n3260  10868     NaN      NaN   \n3261  10874     NaN      NaN   \n3262  10875     NaN      NaN   \n\n                                                   text  \n0                      Just happened terrible car crash  \n1     Heard earthquake different city stay safe ever...  \n2     forest fire spot pond goose fleeing across str...  \n3                  Apocalypse lighting Spokane wildfire  \n4                    Typhoon Soudelor kill China Taiwan  \n...                                                 ...  \n3258  EARTHQUAKE SAFETY LOS ANGELES SAFETY FASTENERS...  \n3259  Storm RI worse last hurricane My city amp 3oth...  \n3260   Green Line derailment Chicago http co UtbXLcBIuY  \n3261  MEG issue Hazardous Weather Outlook HWO http c...  \n3262  CityofCalgary activated Municipal Emergency Pl...  \n\n[3263 rows x 4 columns]",
      "text/html": "<div>\n<style scoped>\n    .dataframe tbody tr th:only-of-type {\n        vertical-align: middle;\n    }\n\n    .dataframe tbody tr th {\n        vertical-align: top;\n    }\n\n    .dataframe thead th {\n        text-align: right;\n    }\n</style>\n<table border=\"1\" class=\"dataframe\">\n  <thead>\n    <tr style=\"text-align: right;\">\n      <th></th>\n      <th>id</th>\n      <th>keyword</th>\n      <th>location</th>\n      <th>text</th>\n    </tr>\n  </thead>\n  <tbody>\n    <tr>\n      <th>0</th>\n      <td>0</td>\n      <td>NaN</td>\n      <td>NaN</td>\n      <td>Just happened terrible car crash</td>\n    </tr>\n    <tr>\n      <th>1</th>\n      <td>2</td>\n      <td>NaN</td>\n      <td>NaN</td>\n      <td>Heard earthquake different city stay safe ever...</td>\n    </tr>\n    <tr>\n      <th>2</th>\n      <td>3</td>\n      <td>NaN</td>\n      <td>NaN</td>\n      <td>forest fire spot pond goose fleeing across str...</td>\n    </tr>\n    <tr>\n      <th>3</th>\n      <td>9</td>\n      <td>NaN</td>\n      <td>NaN</td>\n      <td>Apocalypse lighting Spokane wildfire</td>\n    </tr>\n    <tr>\n      <th>4</th>\n      <td>11</td>\n      <td>NaN</td>\n      <td>NaN</td>\n      <td>Typhoon Soudelor kill China Taiwan</td>\n    </tr>\n    <tr>\n      <th>...</th>\n      <td>...</td>\n      <td>...</td>\n      <td>...</td>\n      <td>...</td>\n    </tr>\n    <tr>\n      <th>3258</th>\n      <td>10861</td>\n      <td>NaN</td>\n      <td>NaN</td>\n      <td>EARTHQUAKE SAFETY LOS ANGELES SAFETY FASTENERS...</td>\n    </tr>\n    <tr>\n      <th>3259</th>\n      <td>10865</td>\n      <td>NaN</td>\n      <td>NaN</td>\n      <td>Storm RI worse last hurricane My city amp 3oth...</td>\n    </tr>\n    <tr>\n      <th>3260</th>\n      <td>10868</td>\n      <td>NaN</td>\n      <td>NaN</td>\n      <td>Green Line derailment Chicago http co UtbXLcBIuY</td>\n    </tr>\n    <tr>\n      <th>3261</th>\n      <td>10874</td>\n      <td>NaN</td>\n      <td>NaN</td>\n      <td>MEG issue Hazardous Weather Outlook HWO http c...</td>\n    </tr>\n    <tr>\n      <th>3262</th>\n      <td>10875</td>\n      <td>NaN</td>\n      <td>NaN</td>\n      <td>CityofCalgary activated Municipal Emergency Pl...</td>\n    </tr>\n  </tbody>\n</table>\n<p>3263 rows × 4 columns</p>\n</div>"
     },
     "metadata": {},
     "output_type": "display_data"
    }
   ],
   "source": [
    "# Clean the dataset\n",
    "test_copy_df = test_df.copy()\n",
    "test_copy_df[\"text\"] = test_copy_df[\"text\"].apply(lambda text:text_cleaning(text))\n",
    "display(test_copy_df)"
   ],
   "metadata": {
    "collapsed": false,
    "ExecuteTime": {
     "end_time": "2023-11-01T07:55:31.662975Z",
     "start_time": "2023-11-01T07:55:30.067940Z"
    }
   },
   "id": "d9c1f57a8088e4f1"
  },
  {
   "cell_type": "code",
   "execution_count": 39,
   "outputs": [
    {
     "data": {
      "text/plain": "         id  target\n0         0       1\n1         2       1\n2         3       1\n3         9       1\n4        11       1\n...     ...     ...\n3258  10861       1\n3259  10865       1\n3260  10868       1\n3261  10874       1\n3262  10875       0\n\n[3263 rows x 2 columns]",
      "text/html": "<div>\n<style scoped>\n    .dataframe tbody tr th:only-of-type {\n        vertical-align: middle;\n    }\n\n    .dataframe tbody tr th {\n        vertical-align: top;\n    }\n\n    .dataframe thead th {\n        text-align: right;\n    }\n</style>\n<table border=\"1\" class=\"dataframe\">\n  <thead>\n    <tr style=\"text-align: right;\">\n      <th></th>\n      <th>id</th>\n      <th>target</th>\n    </tr>\n  </thead>\n  <tbody>\n    <tr>\n      <th>0</th>\n      <td>0</td>\n      <td>1</td>\n    </tr>\n    <tr>\n      <th>1</th>\n      <td>2</td>\n      <td>1</td>\n    </tr>\n    <tr>\n      <th>2</th>\n      <td>3</td>\n      <td>1</td>\n    </tr>\n    <tr>\n      <th>3</th>\n      <td>9</td>\n      <td>1</td>\n    </tr>\n    <tr>\n      <th>4</th>\n      <td>11</td>\n      <td>1</td>\n    </tr>\n    <tr>\n      <th>...</th>\n      <td>...</td>\n      <td>...</td>\n    </tr>\n    <tr>\n      <th>3258</th>\n      <td>10861</td>\n      <td>1</td>\n    </tr>\n    <tr>\n      <th>3259</th>\n      <td>10865</td>\n      <td>1</td>\n    </tr>\n    <tr>\n      <th>3260</th>\n      <td>10868</td>\n      <td>1</td>\n    </tr>\n    <tr>\n      <th>3261</th>\n      <td>10874</td>\n      <td>1</td>\n    </tr>\n    <tr>\n      <th>3262</th>\n      <td>10875</td>\n      <td>0</td>\n    </tr>\n  </tbody>\n</table>\n<p>3263 rows × 2 columns</p>\n</div>"
     },
     "metadata": {},
     "output_type": "display_data"
    }
   ],
   "source": [
    "\n",
    "tfidf_test = tfidf_vectorizer.transform(test_copy_df[\"text\"])\n",
    "#Make predictions on the test set using SVM model\n",
    "y_pred = svc.predict(tfidf_test)\n",
    "# Save the predictions in a dataframe and write it to a csv file for submission\n",
    "df = pd.DataFrame({'id': test_copy_df[\"id\"], 'target': y_pred})\n",
    "df.to_csv(\"./data/submission.csv\", index=False)\n",
    "display(df)\n"
   ],
   "metadata": {
    "collapsed": false,
    "ExecuteTime": {
     "end_time": "2023-11-01T08:44:38.037302Z",
     "start_time": "2023-11-01T08:44:34.911614Z"
    }
   },
   "id": "e8356b368275465e"
  },
  {
   "cell_type": "code",
   "execution_count": null,
   "outputs": [],
   "source": [],
   "metadata": {
    "collapsed": false
   },
   "id": "5e54e9b885615100"
  }
 ],
 "metadata": {
  "kernelspec": {
   "display_name": "Python 3",
   "language": "python",
   "name": "python3"
  },
  "language_info": {
   "codemirror_mode": {
    "name": "ipython",
    "version": 2
   },
   "file_extension": ".py",
   "mimetype": "text/x-python",
   "name": "python",
   "nbconvert_exporter": "python",
   "pygments_lexer": "ipython2",
   "version": "2.7.6"
  }
 },
 "nbformat": 4,
 "nbformat_minor": 5
}
